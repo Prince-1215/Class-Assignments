{
 "cells": [
  {
   "cell_type": "code",
   "execution_count": 129,
   "id": "c724df79",
   "metadata": {},
   "outputs": [],
   "source": [
    "import pandas as pd\n",
    "import numpy as np\n",
    "import matplotlib.pyplot as plt\n",
    "from sklearn.cluster import KMeans\n",
    "from sklearn.preprocessing import StandardScaler"
   ]
  },
  {
   "cell_type": "code",
   "execution_count": 132,
   "id": "aed7e74a",
   "metadata": {},
   "outputs": [
    {
     "data": {
      "text/html": [
       "<div>\n",
       "<style scoped>\n",
       "    .dataframe tbody tr th:only-of-type {\n",
       "        vertical-align: middle;\n",
       "    }\n",
       "\n",
       "    .dataframe tbody tr th {\n",
       "        vertical-align: top;\n",
       "    }\n",
       "\n",
       "    .dataframe thead th {\n",
       "        text-align: right;\n",
       "    }\n",
       "</style>\n",
       "<table border=\"1\" class=\"dataframe\">\n",
       "  <thead>\n",
       "    <tr style=\"text-align: right;\">\n",
       "      <th></th>\n",
       "      <th>Date</th>\n",
       "      <th>Q-E</th>\n",
       "      <th>ZN-E</th>\n",
       "      <th>PH-E</th>\n",
       "      <th>DBO-E</th>\n",
       "      <th>DQO-E</th>\n",
       "      <th>SS-E</th>\n",
       "      <th>SSV-E</th>\n",
       "      <th>SED-E</th>\n",
       "      <th>COND-E</th>\n",
       "      <th>...</th>\n",
       "      <th>COND-S</th>\n",
       "      <th>RD-DBO-P</th>\n",
       "      <th>RD-SS-P</th>\n",
       "      <th>RD-SED-P</th>\n",
       "      <th>RD-DBO-S</th>\n",
       "      <th>RD-DQO-S</th>\n",
       "      <th>RD-DBO-G</th>\n",
       "      <th>RD-DQO-G</th>\n",
       "      <th>RD-SS-G</th>\n",
       "      <th>RD-SED-G</th>\n",
       "    </tr>\n",
       "  </thead>\n",
       "  <tbody>\n",
       "    <tr>\n",
       "      <th>0</th>\n",
       "      <td>D-1/3/90</td>\n",
       "      <td>44101</td>\n",
       "      <td>1.5</td>\n",
       "      <td>7.8</td>\n",
       "      <td>?</td>\n",
       "      <td>407</td>\n",
       "      <td>166</td>\n",
       "      <td>66.3</td>\n",
       "      <td>4.5</td>\n",
       "      <td>2110</td>\n",
       "      <td>...</td>\n",
       "      <td>2000</td>\n",
       "      <td>?</td>\n",
       "      <td>58.8</td>\n",
       "      <td>95.5</td>\n",
       "      <td>?</td>\n",
       "      <td>70</td>\n",
       "      <td>?</td>\n",
       "      <td>79.4</td>\n",
       "      <td>87.3</td>\n",
       "      <td>99.6</td>\n",
       "    </tr>\n",
       "    <tr>\n",
       "      <th>1</th>\n",
       "      <td>D-2/3/90</td>\n",
       "      <td>39024</td>\n",
       "      <td>3</td>\n",
       "      <td>7.7</td>\n",
       "      <td>?</td>\n",
       "      <td>443</td>\n",
       "      <td>214</td>\n",
       "      <td>69.2</td>\n",
       "      <td>6.5</td>\n",
       "      <td>2660</td>\n",
       "      <td>...</td>\n",
       "      <td>2590</td>\n",
       "      <td>?</td>\n",
       "      <td>60.7</td>\n",
       "      <td>94.8</td>\n",
       "      <td>?</td>\n",
       "      <td>80.8</td>\n",
       "      <td>?</td>\n",
       "      <td>79.5</td>\n",
       "      <td>92.1</td>\n",
       "      <td>100</td>\n",
       "    </tr>\n",
       "    <tr>\n",
       "      <th>2</th>\n",
       "      <td>D-4/3/90</td>\n",
       "      <td>32229</td>\n",
       "      <td>5</td>\n",
       "      <td>7.6</td>\n",
       "      <td>?</td>\n",
       "      <td>528</td>\n",
       "      <td>186</td>\n",
       "      <td>69.9</td>\n",
       "      <td>3.4</td>\n",
       "      <td>1666</td>\n",
       "      <td>...</td>\n",
       "      <td>1888</td>\n",
       "      <td>?</td>\n",
       "      <td>58.2</td>\n",
       "      <td>95.6</td>\n",
       "      <td>?</td>\n",
       "      <td>52.9</td>\n",
       "      <td>?</td>\n",
       "      <td>75.8</td>\n",
       "      <td>88.7</td>\n",
       "      <td>98.5</td>\n",
       "    </tr>\n",
       "    <tr>\n",
       "      <th>3</th>\n",
       "      <td>D-5/3/90</td>\n",
       "      <td>35023</td>\n",
       "      <td>3.5</td>\n",
       "      <td>7.9</td>\n",
       "      <td>205</td>\n",
       "      <td>588</td>\n",
       "      <td>192</td>\n",
       "      <td>65.6</td>\n",
       "      <td>4.5</td>\n",
       "      <td>2430</td>\n",
       "      <td>...</td>\n",
       "      <td>1840</td>\n",
       "      <td>33.1</td>\n",
       "      <td>64.2</td>\n",
       "      <td>95.3</td>\n",
       "      <td>87.3</td>\n",
       "      <td>72.3</td>\n",
       "      <td>90.2</td>\n",
       "      <td>82.3</td>\n",
       "      <td>89.6</td>\n",
       "      <td>100</td>\n",
       "    </tr>\n",
       "    <tr>\n",
       "      <th>4</th>\n",
       "      <td>D-6/3/90</td>\n",
       "      <td>36924</td>\n",
       "      <td>1.5</td>\n",
       "      <td>8.0</td>\n",
       "      <td>242</td>\n",
       "      <td>496</td>\n",
       "      <td>176</td>\n",
       "      <td>64.8</td>\n",
       "      <td>4</td>\n",
       "      <td>2110</td>\n",
       "      <td>...</td>\n",
       "      <td>2120</td>\n",
       "      <td>?</td>\n",
       "      <td>62.7</td>\n",
       "      <td>95.6</td>\n",
       "      <td>?</td>\n",
       "      <td>71</td>\n",
       "      <td>92.1</td>\n",
       "      <td>78.2</td>\n",
       "      <td>87.5</td>\n",
       "      <td>99.5</td>\n",
       "    </tr>\n",
       "    <tr>\n",
       "      <th>5</th>\n",
       "      <td>D-7/3/90</td>\n",
       "      <td>38572</td>\n",
       "      <td>3</td>\n",
       "      <td>7.8</td>\n",
       "      <td>202</td>\n",
       "      <td>372</td>\n",
       "      <td>186</td>\n",
       "      <td>68.8</td>\n",
       "      <td>4.5</td>\n",
       "      <td>1644</td>\n",
       "      <td>...</td>\n",
       "      <td>1764</td>\n",
       "      <td>?</td>\n",
       "      <td>59.7</td>\n",
       "      <td>96.5</td>\n",
       "      <td>86.7</td>\n",
       "      <td>78.3</td>\n",
       "      <td>90.1</td>\n",
       "      <td>73.1</td>\n",
       "      <td>84.9</td>\n",
       "      <td>100</td>\n",
       "    </tr>\n",
       "    <tr>\n",
       "      <th>6</th>\n",
       "      <td>D-8/3/90</td>\n",
       "      <td>41115</td>\n",
       "      <td>6</td>\n",
       "      <td>7.8</td>\n",
       "      <td>?</td>\n",
       "      <td>552</td>\n",
       "      <td>262</td>\n",
       "      <td>64.1</td>\n",
       "      <td>5</td>\n",
       "      <td>1603</td>\n",
       "      <td>...</td>\n",
       "      <td>1703</td>\n",
       "      <td>?</td>\n",
       "      <td>61.9</td>\n",
       "      <td>93.8</td>\n",
       "      <td>89.1</td>\n",
       "      <td>79.8</td>\n",
       "      <td>?</td>\n",
       "      <td>86.2</td>\n",
       "      <td>90.1</td>\n",
       "      <td>99</td>\n",
       "    </tr>\n",
       "    <tr>\n",
       "      <th>7</th>\n",
       "      <td>D-9/3/90</td>\n",
       "      <td>36107</td>\n",
       "      <td>5</td>\n",
       "      <td>7.7</td>\n",
       "      <td>215</td>\n",
       "      <td>489</td>\n",
       "      <td>334</td>\n",
       "      <td>40.7</td>\n",
       "      <td>6</td>\n",
       "      <td>1613</td>\n",
       "      <td>...</td>\n",
       "      <td>1606</td>\n",
       "      <td>?</td>\n",
       "      <td>70.4</td>\n",
       "      <td>95.6</td>\n",
       "      <td>90.6</td>\n",
       "      <td>53.7</td>\n",
       "      <td>92.1</td>\n",
       "      <td>66.9</td>\n",
       "      <td>94.6</td>\n",
       "      <td>100</td>\n",
       "    </tr>\n",
       "    <tr>\n",
       "      <th>8</th>\n",
       "      <td>D-11/3/90</td>\n",
       "      <td>29156</td>\n",
       "      <td>2.5</td>\n",
       "      <td>7.7</td>\n",
       "      <td>206</td>\n",
       "      <td>451</td>\n",
       "      <td>194</td>\n",
       "      <td>69.1</td>\n",
       "      <td>4.5</td>\n",
       "      <td>1249</td>\n",
       "      <td>...</td>\n",
       "      <td>1338</td>\n",
       "      <td>46.1</td>\n",
       "      <td>43.6</td>\n",
       "      <td>92.5</td>\n",
       "      <td>85.6</td>\n",
       "      <td>58.2</td>\n",
       "      <td>92.2</td>\n",
       "      <td>73.8</td>\n",
       "      <td>90.2</td>\n",
       "      <td>99.4</td>\n",
       "    </tr>\n",
       "    <tr>\n",
       "      <th>9</th>\n",
       "      <td>D-12/3/90</td>\n",
       "      <td>39246</td>\n",
       "      <td>2</td>\n",
       "      <td>7.8</td>\n",
       "      <td>172</td>\n",
       "      <td>506</td>\n",
       "      <td>200</td>\n",
       "      <td>69</td>\n",
       "      <td>5</td>\n",
       "      <td>1865</td>\n",
       "      <td>...</td>\n",
       "      <td>1616</td>\n",
       "      <td>21.2</td>\n",
       "      <td>59.7</td>\n",
       "      <td>90.8</td>\n",
       "      <td>88.4</td>\n",
       "      <td>66.1</td>\n",
       "      <td>89</td>\n",
       "      <td>69</td>\n",
       "      <td>86.5</td>\n",
       "      <td>99.6</td>\n",
       "    </tr>\n",
       "  </tbody>\n",
       "</table>\n",
       "<p>10 rows × 39 columns</p>\n",
       "</div>"
      ],
      "text/plain": [
       "        Date    Q-E ZN-E   PH-E  DBO-E DQO-E  SS-E SSV-E SED-E  COND-E  ...  \\\n",
       "0   D-1/3/90  44101   1.5    7.8     ?    407  166  66.3   4.5    2110  ...   \n",
       "1   D-2/3/90  39024     3    7.7     ?    443  214  69.2   6.5    2660  ...   \n",
       "2   D-4/3/90  32229     5    7.6     ?    528  186  69.9   3.4    1666  ...   \n",
       "3   D-5/3/90  35023   3.5    7.9   205    588  192  65.6   4.5    2430  ...   \n",
       "4   D-6/3/90  36924   1.5    8.0   242    496  176  64.8     4    2110  ...   \n",
       "5   D-7/3/90  38572     3    7.8   202    372  186  68.8   4.5    1644  ...   \n",
       "6   D-8/3/90  41115     6    7.8     ?    552  262  64.1     5    1603  ...   \n",
       "7   D-9/3/90  36107     5    7.7   215    489  334  40.7     6    1613  ...   \n",
       "8  D-11/3/90  29156   2.5    7.7   206    451  194  69.1   4.5    1249  ...   \n",
       "9  D-12/3/90  39246     2    7.8   172    506  200    69     5    1865  ...   \n",
       "\n",
       "   COND-S RD-DBO-P  RD-SS-P RD-SED-P RD-DBO-S  RD-DQO-S   RD-DBO-G RD-DQO-G  \\\n",
       "0    2000        ?     58.8     95.5        ?        70          ?     79.4   \n",
       "1    2590        ?     60.7     94.8        ?      80.8          ?     79.5   \n",
       "2    1888        ?     58.2     95.6        ?      52.9          ?     75.8   \n",
       "3    1840     33.1     64.2     95.3     87.3      72.3       90.2     82.3   \n",
       "4    2120        ?     62.7     95.6        ?        71       92.1     78.2   \n",
       "5    1764        ?     59.7     96.5     86.7      78.3       90.1     73.1   \n",
       "6    1703        ?     61.9     93.8     89.1      79.8          ?     86.2   \n",
       "7    1606        ?     70.4     95.6     90.6      53.7       92.1     66.9   \n",
       "8    1338     46.1     43.6     92.5     85.6      58.2       92.2     73.8   \n",
       "9    1616     21.2     59.7     90.8     88.4      66.1         89       69   \n",
       "\n",
       "  RD-SS-G RD-SED-G  \n",
       "0    87.3     99.6  \n",
       "1    92.1      100  \n",
       "2    88.7     98.5  \n",
       "3    89.6      100  \n",
       "4    87.5     99.5  \n",
       "5    84.9      100  \n",
       "6    90.1       99  \n",
       "7    94.6      100  \n",
       "8    90.2     99.4  \n",
       "9    86.5     99.6  \n",
       "\n",
       "[10 rows x 39 columns]"
      ]
     },
     "execution_count": 132,
     "metadata": {},
     "output_type": "execute_result"
    }
   ],
   "source": [
    "df=pd.read_csv(\"/Users/prince/Downloads/water-treatment (1).csv\")\n",
    "df.head(10)"
   ]
  },
  {
   "cell_type": "code",
   "execution_count": 133,
   "id": "99edd135",
   "metadata": {},
   "outputs": [
    {
     "data": {
      "text/html": [
       "<div>\n",
       "<style scoped>\n",
       "    .dataframe tbody tr th:only-of-type {\n",
       "        vertical-align: middle;\n",
       "    }\n",
       "\n",
       "    .dataframe tbody tr th {\n",
       "        vertical-align: top;\n",
       "    }\n",
       "\n",
       "    .dataframe thead th {\n",
       "        text-align: right;\n",
       "    }\n",
       "</style>\n",
       "<table border=\"1\" class=\"dataframe\">\n",
       "  <thead>\n",
       "    <tr style=\"text-align: right;\">\n",
       "      <th></th>\n",
       "      <th>Date</th>\n",
       "      <th>Q-E</th>\n",
       "      <th>ZN-E</th>\n",
       "      <th>PH-E</th>\n",
       "      <th>DBO-E</th>\n",
       "      <th>DQO-E</th>\n",
       "      <th>SS-E</th>\n",
       "      <th>SSV-E</th>\n",
       "      <th>SED-E</th>\n",
       "      <th>COND-E</th>\n",
       "      <th>...</th>\n",
       "      <th>COND-S</th>\n",
       "      <th>RD-DBO-P</th>\n",
       "      <th>RD-SS-P</th>\n",
       "      <th>RD-SED-P</th>\n",
       "      <th>RD-DBO-S</th>\n",
       "      <th>RD-DQO-S</th>\n",
       "      <th>RD-DBO-G</th>\n",
       "      <th>RD-DQO-G</th>\n",
       "      <th>RD-SS-G</th>\n",
       "      <th>RD-SED-G</th>\n",
       "    </tr>\n",
       "  </thead>\n",
       "  <tbody>\n",
       "    <tr>\n",
       "      <th>522</th>\n",
       "      <td>D-26/8/91</td>\n",
       "      <td>32723</td>\n",
       "      <td>0.16</td>\n",
       "      <td>7.7</td>\n",
       "      <td>93</td>\n",
       "      <td>252</td>\n",
       "      <td>176</td>\n",
       "      <td>56.8</td>\n",
       "      <td>2.3</td>\n",
       "      <td>894</td>\n",
       "      <td>...</td>\n",
       "      <td>942</td>\n",
       "      <td>?</td>\n",
       "      <td>62.3</td>\n",
       "      <td>93.3</td>\n",
       "      <td>69.8</td>\n",
       "      <td>75.9</td>\n",
       "      <td>79.6</td>\n",
       "      <td>78.6</td>\n",
       "      <td>96.6</td>\n",
       "      <td>99.6</td>\n",
       "    </tr>\n",
       "    <tr>\n",
       "      <th>523</th>\n",
       "      <td>D-27/8/91</td>\n",
       "      <td>33535</td>\n",
       "      <td>0.32</td>\n",
       "      <td>7.8</td>\n",
       "      <td>192</td>\n",
       "      <td>346</td>\n",
       "      <td>172</td>\n",
       "      <td>68.6</td>\n",
       "      <td>4</td>\n",
       "      <td>988</td>\n",
       "      <td>...</td>\n",
       "      <td>950</td>\n",
       "      <td>?</td>\n",
       "      <td>58.3</td>\n",
       "      <td>97.8</td>\n",
       "      <td>83</td>\n",
       "      <td>59.1</td>\n",
       "      <td>91.1</td>\n",
       "      <td>74.6</td>\n",
       "      <td>90.7</td>\n",
       "      <td>100</td>\n",
       "    </tr>\n",
       "    <tr>\n",
       "      <th>524</th>\n",
       "      <td>D-28/8/91</td>\n",
       "      <td>32922</td>\n",
       "      <td>0.3</td>\n",
       "      <td>7.4</td>\n",
       "      <td>139</td>\n",
       "      <td>367</td>\n",
       "      <td>180</td>\n",
       "      <td>64.4</td>\n",
       "      <td>3</td>\n",
       "      <td>1060</td>\n",
       "      <td>...</td>\n",
       "      <td>1136</td>\n",
       "      <td>?</td>\n",
       "      <td>65</td>\n",
       "      <td>97.1</td>\n",
       "      <td>76.2</td>\n",
       "      <td>66.4</td>\n",
       "      <td>82</td>\n",
       "      <td>77.1</td>\n",
       "      <td>88.9</td>\n",
       "      <td>99</td>\n",
       "    </tr>\n",
       "    <tr>\n",
       "      <th>525</th>\n",
       "      <td>D-29/8/91</td>\n",
       "      <td>32190</td>\n",
       "      <td>0.3</td>\n",
       "      <td>7.3</td>\n",
       "      <td>200</td>\n",
       "      <td>545</td>\n",
       "      <td>258</td>\n",
       "      <td>65.1</td>\n",
       "      <td>4</td>\n",
       "      <td>1260</td>\n",
       "      <td>...</td>\n",
       "      <td>1326</td>\n",
       "      <td>39.8</td>\n",
       "      <td>65.9</td>\n",
       "      <td>97.1</td>\n",
       "      <td>81.7</td>\n",
       "      <td>70.9</td>\n",
       "      <td>89.5</td>\n",
       "      <td>87</td>\n",
       "      <td>89.5</td>\n",
       "      <td>99.8</td>\n",
       "    </tr>\n",
       "    <tr>\n",
       "      <th>526</th>\n",
       "      <td>D-30/8/91</td>\n",
       "      <td>30488</td>\n",
       "      <td>0.21</td>\n",
       "      <td>7.5</td>\n",
       "      <td>152</td>\n",
       "      <td>300</td>\n",
       "      <td>132</td>\n",
       "      <td>69.7</td>\n",
       "      <td>?</td>\n",
       "      <td>1073</td>\n",
       "      <td>...</td>\n",
       "      <td>1224</td>\n",
       "      <td>?</td>\n",
       "      <td>69.5</td>\n",
       "      <td>?</td>\n",
       "      <td>81.7</td>\n",
       "      <td>76.4</td>\n",
       "      <td>?</td>\n",
       "      <td>81.7</td>\n",
       "      <td>86.4</td>\n",
       "      <td>?</td>\n",
       "    </tr>\n",
       "  </tbody>\n",
       "</table>\n",
       "<p>5 rows × 39 columns</p>\n",
       "</div>"
      ],
      "text/plain": [
       "          Date    Q-E ZN-E   PH-E  DBO-E DQO-E  SS-E SSV-E SED-E  COND-E  ...  \\\n",
       "522  D-26/8/91  32723  0.16    7.7    93    252  176  56.8   2.3     894  ...   \n",
       "523  D-27/8/91  33535  0.32    7.8   192    346  172  68.6     4     988  ...   \n",
       "524  D-28/8/91  32922   0.3    7.4   139    367  180  64.4     3    1060  ...   \n",
       "525  D-29/8/91  32190   0.3    7.3   200    545  258  65.1     4    1260  ...   \n",
       "526  D-30/8/91  30488  0.21    7.5   152    300  132  69.7     ?    1073  ...   \n",
       "\n",
       "     COND-S RD-DBO-P  RD-SS-P RD-SED-P RD-DBO-S  RD-DQO-S   RD-DBO-G RD-DQO-G  \\\n",
       "522     942        ?     62.3     93.3     69.8      75.9       79.6     78.6   \n",
       "523     950        ?     58.3     97.8       83      59.1       91.1     74.6   \n",
       "524    1136        ?       65     97.1     76.2      66.4         82     77.1   \n",
       "525    1326     39.8     65.9     97.1     81.7      70.9       89.5       87   \n",
       "526    1224        ?     69.5        ?     81.7      76.4          ?     81.7   \n",
       "\n",
       "    RD-SS-G RD-SED-G  \n",
       "522    96.6     99.6  \n",
       "523    90.7      100  \n",
       "524    88.9       99  \n",
       "525    89.5     99.8  \n",
       "526    86.4        ?  \n",
       "\n",
       "[5 rows x 39 columns]"
      ]
     },
     "execution_count": 133,
     "metadata": {},
     "output_type": "execute_result"
    }
   ],
   "source": [
    "df.tail()"
   ]
  },
  {
   "cell_type": "code",
   "execution_count": 134,
   "id": "0e32e3bc",
   "metadata": {},
   "outputs": [
    {
     "data": {
      "text/plain": [
       "Index(['Date', ' Q-E', 'ZN-E ', 'PH-E ', 'DBO-E', 'DQO-E ', 'SS-E', 'SSV-E',\n",
       "       'SED-E', 'COND-E', ' PH-P', 'DBO-P', 'SS-P', 'SSV-P', 'SED-P', 'COND-P',\n",
       "       'PH-D', 'DBO-D', 'DQO-D', 'SS-D', 'SSV-D ', 'SED-D', 'COND-D', 'PH-S',\n",
       "       'DBO-S', 'DQO-S', 'SS-S', 'SSV-S', 'SED-S', 'COND-S', 'RD-DBO-P',\n",
       "       'RD-SS-P', 'RD-SED-P', 'RD-DBO-S', 'RD-DQO-S', ' RD-DBO-G', 'RD-DQO-G',\n",
       "       'RD-SS-G', 'RD-SED-G'],\n",
       "      dtype='object')"
      ]
     },
     "execution_count": 134,
     "metadata": {},
     "output_type": "execute_result"
    }
   ],
   "source": [
    "df.columns"
   ]
  },
  {
   "cell_type": "code",
   "execution_count": 135,
   "id": "c0753908",
   "metadata": {},
   "outputs": [
    {
     "data": {
      "text/plain": [
       "0       D-1/3/90\n",
       "1       D-2/3/90\n",
       "2       D-4/3/90\n",
       "3       D-5/3/90\n",
       "4       D-6/3/90\n",
       "         ...    \n",
       "522    D-26/8/91\n",
       "523    D-27/8/91\n",
       "524    D-28/8/91\n",
       "525    D-29/8/91\n",
       "526    D-30/8/91\n",
       "Name: Date, Length: 527, dtype: object"
      ]
     },
     "execution_count": 135,
     "metadata": {},
     "output_type": "execute_result"
    }
   ],
   "source": [
    "df.iloc[:,0]"
   ]
  },
  {
   "cell_type": "code",
   "execution_count": 136,
   "id": "0df79704",
   "metadata": {},
   "outputs": [],
   "source": [
    "columns= df.columns"
   ]
  },
  {
   "cell_type": "markdown",
   "id": "783190d5",
   "metadata": {},
   "source": [
    "# Cleansing"
   ]
  },
  {
   "cell_type": "code",
   "execution_count": 137,
   "id": "df271284",
   "metadata": {},
   "outputs": [
    {
     "data": {
      "text/plain": [
       "Date         0\n",
       " Q-E         0\n",
       "ZN-E         0\n",
       "PH-E         0\n",
       "DBO-E        0\n",
       "DQO-E        0\n",
       "SS-E         0\n",
       "SSV-E        0\n",
       "SED-E        0\n",
       "COND-E       0\n",
       " PH-P        0\n",
       "DBO-P        0\n",
       "SS-P         0\n",
       "SSV-P        0\n",
       "SED-P        0\n",
       "COND-P       0\n",
       "PH-D         0\n",
       "DBO-D        0\n",
       "DQO-D        0\n",
       "SS-D         0\n",
       "SSV-D        0\n",
       "SED-D        0\n",
       "COND-D       0\n",
       "PH-S         0\n",
       "DBO-S        0\n",
       "DQO-S        0\n",
       "SS-S         0\n",
       "SSV-S        0\n",
       "SED-S        0\n",
       "COND-S       0\n",
       "RD-DBO-P     0\n",
       "RD-SS-P      0\n",
       "RD-SED-P     0\n",
       "RD-DBO-S     0\n",
       "RD-DQO-S     0\n",
       " RD-DBO-G    0\n",
       "RD-DQO-G     0\n",
       "RD-SS-G      0\n",
       "RD-SED-G     0\n",
       "dtype: int64"
      ]
     },
     "execution_count": 137,
     "metadata": {},
     "output_type": "execute_result"
    }
   ],
   "source": [
    "df.isna().sum()"
   ]
  },
  {
   "cell_type": "code",
   "execution_count": 138,
   "id": "a1cdfa54",
   "metadata": {},
   "outputs": [
    {
     "data": {
      "text/plain": [
       "(527, 39)"
      ]
     },
     "execution_count": 138,
     "metadata": {},
     "output_type": "execute_result"
    }
   ],
   "source": [
    "df.shape"
   ]
  },
  {
   "cell_type": "code",
   "execution_count": 139,
   "id": "930f48f9",
   "metadata": {},
   "outputs": [],
   "source": [
    "df.iloc[:,0]=df.iloc[:,0].astype('category')\n",
    "df.iloc[:,0]=df.iloc[:,0].cat.codes"
   ]
  },
  {
   "cell_type": "code",
   "execution_count": 140,
   "id": "55d18cce",
   "metadata": {},
   "outputs": [],
   "source": [
    "df.replace(\"?\",np.nan, inplace=True)"
   ]
  },
  {
   "cell_type": "code",
   "execution_count": 141,
   "id": "e17b0740",
   "metadata": {},
   "outputs": [
    {
     "data": {
      "text/html": [
       "<div>\n",
       "<style scoped>\n",
       "    .dataframe tbody tr th:only-of-type {\n",
       "        vertical-align: middle;\n",
       "    }\n",
       "\n",
       "    .dataframe tbody tr th {\n",
       "        vertical-align: top;\n",
       "    }\n",
       "\n",
       "    .dataframe thead th {\n",
       "        text-align: right;\n",
       "    }\n",
       "</style>\n",
       "<table border=\"1\" class=\"dataframe\">\n",
       "  <thead>\n",
       "    <tr style=\"text-align: right;\">\n",
       "      <th></th>\n",
       "      <th>Date</th>\n",
       "      <th>Q-E</th>\n",
       "      <th>ZN-E</th>\n",
       "      <th>PH-E</th>\n",
       "      <th>DBO-E</th>\n",
       "      <th>DQO-E</th>\n",
       "      <th>SS-E</th>\n",
       "      <th>SSV-E</th>\n",
       "      <th>SED-E</th>\n",
       "      <th>COND-E</th>\n",
       "      <th>...</th>\n",
       "      <th>COND-S</th>\n",
       "      <th>RD-DBO-P</th>\n",
       "      <th>RD-SS-P</th>\n",
       "      <th>RD-SED-P</th>\n",
       "      <th>RD-DBO-S</th>\n",
       "      <th>RD-DQO-S</th>\n",
       "      <th>RD-DBO-G</th>\n",
       "      <th>RD-DQO-G</th>\n",
       "      <th>RD-SS-G</th>\n",
       "      <th>RD-SED-G</th>\n",
       "    </tr>\n",
       "  </thead>\n",
       "  <tbody>\n",
       "    <tr>\n",
       "      <th>0</th>\n",
       "      <td>7</td>\n",
       "      <td>44101</td>\n",
       "      <td>1.5</td>\n",
       "      <td>7.8</td>\n",
       "      <td>NaN</td>\n",
       "      <td>407</td>\n",
       "      <td>166</td>\n",
       "      <td>66.3</td>\n",
       "      <td>4.5</td>\n",
       "      <td>2110</td>\n",
       "      <td>...</td>\n",
       "      <td>2000</td>\n",
       "      <td>NaN</td>\n",
       "      <td>58.8</td>\n",
       "      <td>95.5</td>\n",
       "      <td>NaN</td>\n",
       "      <td>70</td>\n",
       "      <td>NaN</td>\n",
       "      <td>79.4</td>\n",
       "      <td>87.3</td>\n",
       "      <td>99.6</td>\n",
       "    </tr>\n",
       "    <tr>\n",
       "      <th>1</th>\n",
       "      <td>198</td>\n",
       "      <td>39024</td>\n",
       "      <td>3</td>\n",
       "      <td>7.7</td>\n",
       "      <td>NaN</td>\n",
       "      <td>443</td>\n",
       "      <td>214</td>\n",
       "      <td>69.2</td>\n",
       "      <td>6.5</td>\n",
       "      <td>2660</td>\n",
       "      <td>...</td>\n",
       "      <td>2590</td>\n",
       "      <td>NaN</td>\n",
       "      <td>60.7</td>\n",
       "      <td>94.8</td>\n",
       "      <td>NaN</td>\n",
       "      <td>80.8</td>\n",
       "      <td>NaN</td>\n",
       "      <td>79.5</td>\n",
       "      <td>92.1</td>\n",
       "      <td>100</td>\n",
       "    </tr>\n",
       "    <tr>\n",
       "      <th>2</th>\n",
       "      <td>428</td>\n",
       "      <td>32229</td>\n",
       "      <td>5</td>\n",
       "      <td>7.6</td>\n",
       "      <td>NaN</td>\n",
       "      <td>528</td>\n",
       "      <td>186</td>\n",
       "      <td>69.9</td>\n",
       "      <td>3.4</td>\n",
       "      <td>1666</td>\n",
       "      <td>...</td>\n",
       "      <td>1888</td>\n",
       "      <td>NaN</td>\n",
       "      <td>58.2</td>\n",
       "      <td>95.6</td>\n",
       "      <td>NaN</td>\n",
       "      <td>52.9</td>\n",
       "      <td>NaN</td>\n",
       "      <td>75.8</td>\n",
       "      <td>88.7</td>\n",
       "      <td>98.5</td>\n",
       "    </tr>\n",
       "    <tr>\n",
       "      <th>3</th>\n",
       "      <td>444</td>\n",
       "      <td>35023</td>\n",
       "      <td>3.5</td>\n",
       "      <td>7.9</td>\n",
       "      <td>205</td>\n",
       "      <td>588</td>\n",
       "      <td>192</td>\n",
       "      <td>65.6</td>\n",
       "      <td>4.5</td>\n",
       "      <td>2430</td>\n",
       "      <td>...</td>\n",
       "      <td>1840</td>\n",
       "      <td>33.1</td>\n",
       "      <td>64.2</td>\n",
       "      <td>95.3</td>\n",
       "      <td>87.3</td>\n",
       "      <td>72.3</td>\n",
       "      <td>90.2</td>\n",
       "      <td>82.3</td>\n",
       "      <td>89.6</td>\n",
       "      <td>100</td>\n",
       "    </tr>\n",
       "    <tr>\n",
       "      <th>4</th>\n",
       "      <td>462</td>\n",
       "      <td>36924</td>\n",
       "      <td>1.5</td>\n",
       "      <td>8.0</td>\n",
       "      <td>242</td>\n",
       "      <td>496</td>\n",
       "      <td>176</td>\n",
       "      <td>64.8</td>\n",
       "      <td>4</td>\n",
       "      <td>2110</td>\n",
       "      <td>...</td>\n",
       "      <td>2120</td>\n",
       "      <td>NaN</td>\n",
       "      <td>62.7</td>\n",
       "      <td>95.6</td>\n",
       "      <td>NaN</td>\n",
       "      <td>71</td>\n",
       "      <td>92.1</td>\n",
       "      <td>78.2</td>\n",
       "      <td>87.5</td>\n",
       "      <td>99.5</td>\n",
       "    </tr>\n",
       "    <tr>\n",
       "      <th>...</th>\n",
       "      <td>...</td>\n",
       "      <td>...</td>\n",
       "      <td>...</td>\n",
       "      <td>...</td>\n",
       "      <td>...</td>\n",
       "      <td>...</td>\n",
       "      <td>...</td>\n",
       "      <td>...</td>\n",
       "      <td>...</td>\n",
       "      <td>...</td>\n",
       "      <td>...</td>\n",
       "      <td>...</td>\n",
       "      <td>...</td>\n",
       "      <td>...</td>\n",
       "      <td>...</td>\n",
       "      <td>...</td>\n",
       "      <td>...</td>\n",
       "      <td>...</td>\n",
       "      <td>...</td>\n",
       "      <td>...</td>\n",
       "      <td>...</td>\n",
       "    </tr>\n",
       "    <tr>\n",
       "      <th>522</th>\n",
       "      <td>329</td>\n",
       "      <td>32723</td>\n",
       "      <td>0.16</td>\n",
       "      <td>7.7</td>\n",
       "      <td>93</td>\n",
       "      <td>252</td>\n",
       "      <td>176</td>\n",
       "      <td>56.8</td>\n",
       "      <td>2.3</td>\n",
       "      <td>894</td>\n",
       "      <td>...</td>\n",
       "      <td>942</td>\n",
       "      <td>NaN</td>\n",
       "      <td>62.3</td>\n",
       "      <td>93.3</td>\n",
       "      <td>69.8</td>\n",
       "      <td>75.9</td>\n",
       "      <td>79.6</td>\n",
       "      <td>78.6</td>\n",
       "      <td>96.6</td>\n",
       "      <td>99.6</td>\n",
       "    </tr>\n",
       "    <tr>\n",
       "      <th>523</th>\n",
       "      <td>346</td>\n",
       "      <td>33535</td>\n",
       "      <td>0.32</td>\n",
       "      <td>7.8</td>\n",
       "      <td>192</td>\n",
       "      <td>346</td>\n",
       "      <td>172</td>\n",
       "      <td>68.6</td>\n",
       "      <td>4</td>\n",
       "      <td>988</td>\n",
       "      <td>...</td>\n",
       "      <td>950</td>\n",
       "      <td>NaN</td>\n",
       "      <td>58.3</td>\n",
       "      <td>97.8</td>\n",
       "      <td>83</td>\n",
       "      <td>59.1</td>\n",
       "      <td>91.1</td>\n",
       "      <td>74.6</td>\n",
       "      <td>90.7</td>\n",
       "      <td>100</td>\n",
       "    </tr>\n",
       "    <tr>\n",
       "      <th>524</th>\n",
       "      <td>363</td>\n",
       "      <td>32922</td>\n",
       "      <td>0.3</td>\n",
       "      <td>7.4</td>\n",
       "      <td>139</td>\n",
       "      <td>367</td>\n",
       "      <td>180</td>\n",
       "      <td>64.4</td>\n",
       "      <td>3</td>\n",
       "      <td>1060</td>\n",
       "      <td>...</td>\n",
       "      <td>1136</td>\n",
       "      <td>NaN</td>\n",
       "      <td>65</td>\n",
       "      <td>97.1</td>\n",
       "      <td>76.2</td>\n",
       "      <td>66.4</td>\n",
       "      <td>82</td>\n",
       "      <td>77.1</td>\n",
       "      <td>88.9</td>\n",
       "      <td>99</td>\n",
       "    </tr>\n",
       "    <tr>\n",
       "      <th>525</th>\n",
       "      <td>380</td>\n",
       "      <td>32190</td>\n",
       "      <td>0.3</td>\n",
       "      <td>7.3</td>\n",
       "      <td>200</td>\n",
       "      <td>545</td>\n",
       "      <td>258</td>\n",
       "      <td>65.1</td>\n",
       "      <td>4</td>\n",
       "      <td>1260</td>\n",
       "      <td>...</td>\n",
       "      <td>1326</td>\n",
       "      <td>39.8</td>\n",
       "      <td>65.9</td>\n",
       "      <td>97.1</td>\n",
       "      <td>81.7</td>\n",
       "      <td>70.9</td>\n",
       "      <td>89.5</td>\n",
       "      <td>87</td>\n",
       "      <td>89.5</td>\n",
       "      <td>99.8</td>\n",
       "    </tr>\n",
       "    <tr>\n",
       "      <th>526</th>\n",
       "      <td>411</td>\n",
       "      <td>30488</td>\n",
       "      <td>0.21</td>\n",
       "      <td>7.5</td>\n",
       "      <td>152</td>\n",
       "      <td>300</td>\n",
       "      <td>132</td>\n",
       "      <td>69.7</td>\n",
       "      <td>NaN</td>\n",
       "      <td>1073</td>\n",
       "      <td>...</td>\n",
       "      <td>1224</td>\n",
       "      <td>NaN</td>\n",
       "      <td>69.5</td>\n",
       "      <td>NaN</td>\n",
       "      <td>81.7</td>\n",
       "      <td>76.4</td>\n",
       "      <td>NaN</td>\n",
       "      <td>81.7</td>\n",
       "      <td>86.4</td>\n",
       "      <td>NaN</td>\n",
       "    </tr>\n",
       "  </tbody>\n",
       "</table>\n",
       "<p>527 rows × 39 columns</p>\n",
       "</div>"
      ],
      "text/plain": [
       "     Date    Q-E ZN-E   PH-E  DBO-E DQO-E  SS-E SSV-E SED-E  COND-E  ...  \\\n",
       "0       7  44101   1.5    7.8   NaN    407  166  66.3   4.5    2110  ...   \n",
       "1     198  39024     3    7.7   NaN    443  214  69.2   6.5    2660  ...   \n",
       "2     428  32229     5    7.6   NaN    528  186  69.9   3.4    1666  ...   \n",
       "3     444  35023   3.5    7.9   205    588  192  65.6   4.5    2430  ...   \n",
       "4     462  36924   1.5    8.0   242    496  176  64.8     4    2110  ...   \n",
       "..    ...    ...   ...    ...   ...    ...  ...   ...   ...     ...  ...   \n",
       "522   329  32723  0.16    7.7    93    252  176  56.8   2.3     894  ...   \n",
       "523   346  33535  0.32    7.8   192    346  172  68.6     4     988  ...   \n",
       "524   363  32922   0.3    7.4   139    367  180  64.4     3    1060  ...   \n",
       "525   380  32190   0.3    7.3   200    545  258  65.1     4    1260  ...   \n",
       "526   411  30488  0.21    7.5   152    300  132  69.7   NaN    1073  ...   \n",
       "\n",
       "     COND-S RD-DBO-P  RD-SS-P RD-SED-P RD-DBO-S  RD-DQO-S   RD-DBO-G RD-DQO-G  \\\n",
       "0      2000      NaN     58.8     95.5      NaN        70        NaN     79.4   \n",
       "1      2590      NaN     60.7     94.8      NaN      80.8        NaN     79.5   \n",
       "2      1888      NaN     58.2     95.6      NaN      52.9        NaN     75.8   \n",
       "3      1840     33.1     64.2     95.3     87.3      72.3       90.2     82.3   \n",
       "4      2120      NaN     62.7     95.6      NaN        71       92.1     78.2   \n",
       "..      ...      ...      ...      ...      ...       ...        ...      ...   \n",
       "522     942      NaN     62.3     93.3     69.8      75.9       79.6     78.6   \n",
       "523     950      NaN     58.3     97.8       83      59.1       91.1     74.6   \n",
       "524    1136      NaN       65     97.1     76.2      66.4         82     77.1   \n",
       "525    1326     39.8     65.9     97.1     81.7      70.9       89.5       87   \n",
       "526    1224      NaN     69.5      NaN     81.7      76.4        NaN     81.7   \n",
       "\n",
       "    RD-SS-G RD-SED-G  \n",
       "0      87.3     99.6  \n",
       "1      92.1      100  \n",
       "2      88.7     98.5  \n",
       "3      89.6      100  \n",
       "4      87.5     99.5  \n",
       "..      ...      ...  \n",
       "522    96.6     99.6  \n",
       "523    90.7      100  \n",
       "524    88.9       99  \n",
       "525    89.5     99.8  \n",
       "526    86.4      NaN  \n",
       "\n",
       "[527 rows x 39 columns]"
      ]
     },
     "execution_count": 141,
     "metadata": {},
     "output_type": "execute_result"
    }
   ],
   "source": [
    "df"
   ]
  },
  {
   "cell_type": "code",
   "execution_count": 142,
   "id": "d1c74d66",
   "metadata": {},
   "outputs": [],
   "source": [
    "df.dropna(inplace=True)"
   ]
  },
  {
   "cell_type": "code",
   "execution_count": 143,
   "id": "cf12dc02",
   "metadata": {},
   "outputs": [
    {
     "data": {
      "text/html": [
       "<div>\n",
       "<style scoped>\n",
       "    .dataframe tbody tr th:only-of-type {\n",
       "        vertical-align: middle;\n",
       "    }\n",
       "\n",
       "    .dataframe tbody tr th {\n",
       "        vertical-align: top;\n",
       "    }\n",
       "\n",
       "    .dataframe thead th {\n",
       "        text-align: right;\n",
       "    }\n",
       "</style>\n",
       "<table border=\"1\" class=\"dataframe\">\n",
       "  <thead>\n",
       "    <tr style=\"text-align: right;\">\n",
       "      <th></th>\n",
       "      <th>Date</th>\n",
       "      <th>Q-E</th>\n",
       "      <th>ZN-E</th>\n",
       "      <th>PH-E</th>\n",
       "      <th>DBO-E</th>\n",
       "      <th>DQO-E</th>\n",
       "      <th>SS-E</th>\n",
       "      <th>SSV-E</th>\n",
       "      <th>SED-E</th>\n",
       "      <th>COND-E</th>\n",
       "      <th>...</th>\n",
       "      <th>COND-S</th>\n",
       "      <th>RD-DBO-P</th>\n",
       "      <th>RD-SS-P</th>\n",
       "      <th>RD-SED-P</th>\n",
       "      <th>RD-DBO-S</th>\n",
       "      <th>RD-DQO-S</th>\n",
       "      <th>RD-DBO-G</th>\n",
       "      <th>RD-DQO-G</th>\n",
       "      <th>RD-SS-G</th>\n",
       "      <th>RD-SED-G</th>\n",
       "    </tr>\n",
       "  </thead>\n",
       "  <tbody>\n",
       "    <tr>\n",
       "      <th>0</th>\n",
       "      <td>444</td>\n",
       "      <td>35023</td>\n",
       "      <td>3.5</td>\n",
       "      <td>7.9</td>\n",
       "      <td>205</td>\n",
       "      <td>588</td>\n",
       "      <td>192</td>\n",
       "      <td>65.6</td>\n",
       "      <td>4.5</td>\n",
       "      <td>2430</td>\n",
       "      <td>...</td>\n",
       "      <td>1840</td>\n",
       "      <td>33.1</td>\n",
       "      <td>64.2</td>\n",
       "      <td>95.3</td>\n",
       "      <td>87.3</td>\n",
       "      <td>72.3</td>\n",
       "      <td>90.2</td>\n",
       "      <td>82.3</td>\n",
       "      <td>89.6</td>\n",
       "      <td>100</td>\n",
       "    </tr>\n",
       "    <tr>\n",
       "      <th>1</th>\n",
       "      <td>40</td>\n",
       "      <td>29156</td>\n",
       "      <td>2.5</td>\n",
       "      <td>7.7</td>\n",
       "      <td>206</td>\n",
       "      <td>451</td>\n",
       "      <td>194</td>\n",
       "      <td>69.1</td>\n",
       "      <td>4.5</td>\n",
       "      <td>1249</td>\n",
       "      <td>...</td>\n",
       "      <td>1338</td>\n",
       "      <td>46.1</td>\n",
       "      <td>43.6</td>\n",
       "      <td>92.5</td>\n",
       "      <td>85.6</td>\n",
       "      <td>58.2</td>\n",
       "      <td>92.2</td>\n",
       "      <td>73.8</td>\n",
       "      <td>90.2</td>\n",
       "      <td>99.4</td>\n",
       "    </tr>\n",
       "    <tr>\n",
       "      <th>2</th>\n",
       "      <td>57</td>\n",
       "      <td>39246</td>\n",
       "      <td>2</td>\n",
       "      <td>7.8</td>\n",
       "      <td>172</td>\n",
       "      <td>506</td>\n",
       "      <td>200</td>\n",
       "      <td>69</td>\n",
       "      <td>5</td>\n",
       "      <td>1865</td>\n",
       "      <td>...</td>\n",
       "      <td>1616</td>\n",
       "      <td>21.2</td>\n",
       "      <td>59.7</td>\n",
       "      <td>90.8</td>\n",
       "      <td>88.4</td>\n",
       "      <td>66.1</td>\n",
       "      <td>89</td>\n",
       "      <td>69</td>\n",
       "      <td>86.5</td>\n",
       "      <td>99.6</td>\n",
       "    </tr>\n",
       "    <tr>\n",
       "      <th>3</th>\n",
       "      <td>74</td>\n",
       "      <td>42393</td>\n",
       "      <td>0.7</td>\n",
       "      <td>7.9</td>\n",
       "      <td>189</td>\n",
       "      <td>478</td>\n",
       "      <td>230</td>\n",
       "      <td>67</td>\n",
       "      <td>5.5</td>\n",
       "      <td>1410</td>\n",
       "      <td>...</td>\n",
       "      <td>1575</td>\n",
       "      <td>0.6</td>\n",
       "      <td>45.8</td>\n",
       "      <td>92</td>\n",
       "      <td>11.6</td>\n",
       "      <td>25.7</td>\n",
       "      <td>19.6</td>\n",
       "      <td>36</td>\n",
       "      <td>43</td>\n",
       "      <td>36.4</td>\n",
       "    </tr>\n",
       "    <tr>\n",
       "      <th>4</th>\n",
       "      <td>161</td>\n",
       "      <td>40923</td>\n",
       "      <td>3.5</td>\n",
       "      <td>7.6</td>\n",
       "      <td>146</td>\n",
       "      <td>329</td>\n",
       "      <td>188</td>\n",
       "      <td>57.4</td>\n",
       "      <td>2.5</td>\n",
       "      <td>1300</td>\n",
       "      <td>...</td>\n",
       "      <td>1545</td>\n",
       "      <td>32.7</td>\n",
       "      <td>33.3</td>\n",
       "      <td>90</td>\n",
       "      <td>82.6</td>\n",
       "      <td>61.3</td>\n",
       "      <td>87</td>\n",
       "      <td>71.4</td>\n",
       "      <td>78.2</td>\n",
       "      <td>99.2</td>\n",
       "    </tr>\n",
       "  </tbody>\n",
       "</table>\n",
       "<p>5 rows × 39 columns</p>\n",
       "</div>"
      ],
      "text/plain": [
       "   Date    Q-E ZN-E   PH-E  DBO-E DQO-E  SS-E SSV-E SED-E  COND-E  ...  \\\n",
       "0   444  35023   3.5    7.9   205    588  192  65.6   4.5    2430  ...   \n",
       "1    40  29156   2.5    7.7   206    451  194  69.1   4.5    1249  ...   \n",
       "2    57  39246     2    7.8   172    506  200    69     5    1865  ...   \n",
       "3    74  42393   0.7    7.9   189    478  230    67   5.5    1410  ...   \n",
       "4   161  40923   3.5    7.6   146    329  188  57.4   2.5    1300  ...   \n",
       "\n",
       "   COND-S RD-DBO-P  RD-SS-P RD-SED-P RD-DBO-S  RD-DQO-S   RD-DBO-G RD-DQO-G  \\\n",
       "0    1840     33.1     64.2     95.3     87.3      72.3       90.2     82.3   \n",
       "1    1338     46.1     43.6     92.5     85.6      58.2       92.2     73.8   \n",
       "2    1616     21.2     59.7     90.8     88.4      66.1         89       69   \n",
       "3    1575      0.6     45.8       92     11.6      25.7       19.6       36   \n",
       "4    1545     32.7     33.3       90     82.6      61.3         87     71.4   \n",
       "\n",
       "  RD-SS-G RD-SED-G  \n",
       "0    89.6      100  \n",
       "1    90.2     99.4  \n",
       "2    86.5     99.6  \n",
       "3      43     36.4  \n",
       "4    78.2     99.2  \n",
       "\n",
       "[5 rows x 39 columns]"
      ]
     },
     "execution_count": 143,
     "metadata": {},
     "output_type": "execute_result"
    }
   ],
   "source": [
    "df.reset_index(inplace=True)\n",
    "df.drop('index', inplace=True, axis=1)\n",
    "df.head()"
   ]
  },
  {
   "cell_type": "markdown",
   "id": "7dd77cbf",
   "metadata": {},
   "source": [
    "# Standardisation"
   ]
  },
  {
   "cell_type": "code",
   "execution_count": 144,
   "id": "3605d09a",
   "metadata": {},
   "outputs": [],
   "source": [
    "scaler = StandardScaler()\n"
   ]
  },
  {
   "cell_type": "code",
   "execution_count": 145,
   "id": "2a30a577",
   "metadata": {},
   "outputs": [
    {
     "data": {
      "text/plain": [
       "Date           int16\n",
       " Q-E          object\n",
       "ZN-E          object\n",
       "PH-E         float64\n",
       "DBO-E         object\n",
       "DQO-E         object\n",
       "SS-E          object\n",
       "SSV-E         object\n",
       "SED-E         object\n",
       "COND-E         int64\n",
       " PH-P        float64\n",
       "DBO-P         object\n",
       "SS-P           int64\n",
       "SSV-P         object\n",
       "SED-P         object\n",
       "COND-P         int64\n",
       "PH-D         float64\n",
       "DBO-D         object\n",
       "DQO-D         object\n",
       "SS-D          object\n",
       "SSV-D         object\n",
       "SED-D         object\n",
       "COND-D         int64\n",
       "PH-S          object\n",
       "DBO-S         object\n",
       "DQO-S         object\n",
       "SS-S          object\n",
       "SSV-S         object\n",
       "SED-S         object\n",
       "COND-S        object\n",
       "RD-DBO-P      object\n",
       "RD-SS-P       object\n",
       "RD-SED-P      object\n",
       "RD-DBO-S      object\n",
       "RD-DQO-S      object\n",
       " RD-DBO-G     object\n",
       "RD-DQO-G      object\n",
       "RD-SS-G       object\n",
       "RD-SED-G      object\n",
       "dtype: object"
      ]
     },
     "execution_count": 145,
     "metadata": {},
     "output_type": "execute_result"
    }
   ],
   "source": [
    "df.dtypes"
   ]
  },
  {
   "cell_type": "code",
   "execution_count": 147,
   "id": "f8ff6665",
   "metadata": {},
   "outputs": [
    {
     "data": {
      "image/png": "[encoded data removed]",
      "text/plain": [
       "<Figure size 864x864 with 2 Axes>"
      ]
     },
     "metadata": {
      "needs_background": "light"
     },
     "output_type": "display_data"
    }
   ],
   "source": [
    "import seaborn as sns\n",
    "plt.figure(figsize=(12,12))\n",
    "sns.heatmap(df.corr(), center=0, annot=True)\n",
    "plt.title(\"Correlation Map\")\n",
    "plt.show()"
   ]
  },
  {
   "cell_type": "code",
   "execution_count": 149,
   "id": "868e7fa1",
   "metadata": {},
   "outputs": [],
   "source": [
    "df1 = scaler.fit_transform(df)"
   ]
  },
  {
   "cell_type": "code",
   "execution_count": 150,
   "id": "8889cd06",
   "metadata": {},
   "outputs": [
    {
     "data": {
      "text/plain": [
       "Date           int16\n",
       " Q-E          object\n",
       "ZN-E          object\n",
       "PH-E         float64\n",
       "DBO-E         object\n",
       "DQO-E         object\n",
       "SS-E          object\n",
       "SSV-E         object\n",
       "SED-E         object\n",
       "COND-E         int64\n",
       " PH-P        float64\n",
       "DBO-P         object\n",
       "SS-P           int64\n",
       "SSV-P         object\n",
       "SED-P         object\n",
       "COND-P         int64\n",
       "PH-D         float64\n",
       "DBO-D         object\n",
       "DQO-D         object\n",
       "SS-D          object\n",
       "SSV-D         object\n",
       "SED-D         object\n",
       "COND-D         int64\n",
       "PH-S          object\n",
       "DBO-S         object\n",
       "DQO-S         object\n",
       "SS-S          object\n",
       "SSV-S         object\n",
       "SED-S         object\n",
       "COND-S        object\n",
       "RD-DBO-P      object\n",
       "RD-SS-P       object\n",
       "RD-SED-P      object\n",
       "RD-DBO-S      object\n",
       "RD-DQO-S      object\n",
       " RD-DBO-G     object\n",
       "RD-DQO-G      object\n",
       "RD-SS-G       object\n",
       "RD-SED-G      object\n",
       "dtype: object"
      ]
     },
     "execution_count": 150,
     "metadata": {},
     "output_type": "execute_result"
    }
   ],
   "source": [
    "df.dtypes"
   ]
  },
  {
   "cell_type": "code",
   "execution_count": 151,
   "id": "33d39719",
   "metadata": {},
   "outputs": [
    {
     "data": {
      "text/plain": [
       "array([[ 1.19294867, -0.3432405 ,  0.52578544, ...,  0.48170336,\n",
       "        -0.00212193,  0.2079139 ],\n",
       "       [-1.44210471, -1.20065815,  0.09577841, ..., -0.55266831,\n",
       "         0.09661278,  0.06250172],\n",
       "       [-1.33122375,  0.27391899, -0.11922511, ..., -1.13678407,\n",
       "        -0.51225126,  0.11097245],\n",
       "       ...,\n",
       "       [-0.01369706, -1.35673827, -0.89323776, ...,  0.81026848,\n",
       "         0.11306856,  0.2079139 ],\n",
       "       [ 0.09066149, -1.39327388, -0.92333825, ...,  0.15313825,\n",
       "        -0.08440085,  0.2079139 ],\n",
       "       [ 0.77551447, -0.75726201, -0.85023706, ...,  1.05365005,\n",
       "        -0.01857771,  0.15944317]])"
      ]
     },
     "execution_count": 151,
     "metadata": {},
     "output_type": "execute_result"
    }
   ],
   "source": [
    "df1"
   ]
  },
  {
   "cell_type": "code",
   "execution_count": 156,
   "id": "3c2d476b",
   "metadata": {},
   "outputs": [
    {
     "data": {
      "text/html": [
       "<div>\n",
       "<style scoped>\n",
       "    .dataframe tbody tr th:only-of-type {\n",
       "        vertical-align: middle;\n",
       "    }\n",
       "\n",
       "    .dataframe tbody tr th {\n",
       "        vertical-align: top;\n",
       "    }\n",
       "\n",
       "    .dataframe thead th {\n",
       "        text-align: right;\n",
       "    }\n",
       "</style>\n",
       "<table border=\"1\" class=\"dataframe\">\n",
       "  <thead>\n",
       "    <tr style=\"text-align: right;\">\n",
       "      <th></th>\n",
       "      <th>Q-E</th>\n",
       "      <th>ZN-E</th>\n",
       "      <th>PH-E</th>\n",
       "      <th>DBO-E</th>\n",
       "      <th>DQO-E</th>\n",
       "      <th>SS-E</th>\n",
       "      <th>SSV-E</th>\n",
       "      <th>SED-E</th>\n",
       "      <th>COND-E</th>\n",
       "    </tr>\n",
       "  </thead>\n",
       "  <tbody>\n",
       "    <tr>\n",
       "      <th>0</th>\n",
       "      <td>35023</td>\n",
       "      <td>3.5</td>\n",
       "      <td>7.9</td>\n",
       "      <td>205</td>\n",
       "      <td>588</td>\n",
       "      <td>192</td>\n",
       "      <td>65.6</td>\n",
       "      <td>4.5</td>\n",
       "      <td>2430</td>\n",
       "    </tr>\n",
       "    <tr>\n",
       "      <th>1</th>\n",
       "      <td>29156</td>\n",
       "      <td>2.5</td>\n",
       "      <td>7.7</td>\n",
       "      <td>206</td>\n",
       "      <td>451</td>\n",
       "      <td>194</td>\n",
       "      <td>69.1</td>\n",
       "      <td>4.5</td>\n",
       "      <td>1249</td>\n",
       "    </tr>\n",
       "    <tr>\n",
       "      <th>2</th>\n",
       "      <td>39246</td>\n",
       "      <td>2</td>\n",
       "      <td>7.8</td>\n",
       "      <td>172</td>\n",
       "      <td>506</td>\n",
       "      <td>200</td>\n",
       "      <td>69</td>\n",
       "      <td>5</td>\n",
       "      <td>1865</td>\n",
       "    </tr>\n",
       "    <tr>\n",
       "      <th>3</th>\n",
       "      <td>42393</td>\n",
       "      <td>0.7</td>\n",
       "      <td>7.9</td>\n",
       "      <td>189</td>\n",
       "      <td>478</td>\n",
       "      <td>230</td>\n",
       "      <td>67</td>\n",
       "      <td>5.5</td>\n",
       "      <td>1410</td>\n",
       "    </tr>\n",
       "    <tr>\n",
       "      <th>4</th>\n",
       "      <td>40923</td>\n",
       "      <td>3.5</td>\n",
       "      <td>7.6</td>\n",
       "      <td>146</td>\n",
       "      <td>329</td>\n",
       "      <td>188</td>\n",
       "      <td>57.4</td>\n",
       "      <td>2.5</td>\n",
       "      <td>1300</td>\n",
       "    </tr>\n",
       "  </tbody>\n",
       "</table>\n",
       "</div>"
      ],
      "text/plain": [
       "     Q-E ZN-E   PH-E  DBO-E DQO-E  SS-E SSV-E SED-E  COND-E\n",
       "0  35023   3.5    7.9   205    588  192  65.6   4.5    2430\n",
       "1  29156   2.5    7.7   206    451  194  69.1   4.5    1249\n",
       "2  39246     2    7.8   172    506  200    69     5    1865\n",
       "3  42393   0.7    7.9   189    478  230    67   5.5    1410\n",
       "4  40923   3.5    7.6   146    329  188  57.4   2.5    1300"
      ]
     },
     "execution_count": 156,
     "metadata": {},
     "output_type": "execute_result"
    }
   ],
   "source": [
    "df1=df[[' Q-E', 'ZN-E ', 'PH-E ', 'DBO-E' ,'DQO-E ' ,'SS-E' ,'SSV-E','SED-E','COND-E']]\n",
    "df1.head()"
   ]
  },
  {
   "cell_type": "code",
   "execution_count": 158,
   "id": "97e57129",
   "metadata": {},
   "outputs": [
    {
     "data": {
      "text/html": [
       "<div>\n",
       "<style scoped>\n",
       "    .dataframe tbody tr th:only-of-type {\n",
       "        vertical-align: middle;\n",
       "    }\n",
       "\n",
       "    .dataframe tbody tr th {\n",
       "        vertical-align: top;\n",
       "    }\n",
       "\n",
       "    .dataframe thead th {\n",
       "        text-align: right;\n",
       "    }\n",
       "</style>\n",
       "<table border=\"1\" class=\"dataframe\">\n",
       "  <thead>\n",
       "    <tr style=\"text-align: right;\">\n",
       "      <th></th>\n",
       "      <th>Q-E</th>\n",
       "      <th>ZN-E</th>\n",
       "      <th>PH-E</th>\n",
       "      <th>DBO-E</th>\n",
       "      <th>DQO-E</th>\n",
       "      <th>SS-E</th>\n",
       "      <th>SSV-E</th>\n",
       "      <th>SED-E</th>\n",
       "      <th>COND-E</th>\n",
       "    </tr>\n",
       "  </thead>\n",
       "  <tbody>\n",
       "    <tr>\n",
       "      <th>270</th>\n",
       "      <td>-0.488068</td>\n",
       "      <td>-0.549232</td>\n",
       "      <td>1.585884</td>\n",
       "      <td>0.544452</td>\n",
       "      <td>0.560994</td>\n",
       "      <td>-0.515637</td>\n",
       "      <td>0.904914</td>\n",
       "      <td>0.280369</td>\n",
       "      <td>-0.319094</td>\n",
       "    </tr>\n",
       "    <tr>\n",
       "      <th>17</th>\n",
       "      <td>0.174834</td>\n",
       "      <td>-0.678234</td>\n",
       "      <td>1.585884</td>\n",
       "      <td>0.707602</td>\n",
       "      <td>0.866857</td>\n",
       "      <td>-0.193392</td>\n",
       "      <td>0.462010</td>\n",
       "      <td>0.693583</td>\n",
       "      <td>0.568751</td>\n",
       "    </tr>\n",
       "    <tr>\n",
       "      <th>54</th>\n",
       "      <td>0.035561</td>\n",
       "      <td>-0.463231</td>\n",
       "      <td>-0.106914</td>\n",
       "      <td>0.152890</td>\n",
       "      <td>0.000246</td>\n",
       "      <td>0.044052</td>\n",
       "      <td>-0.589886</td>\n",
       "      <td>0.108197</td>\n",
       "      <td>-0.403045</td>\n",
       "    </tr>\n",
       "    <tr>\n",
       "      <th>236</th>\n",
       "      <td>1.649265</td>\n",
       "      <td>-0.248227</td>\n",
       "      <td>-0.530113</td>\n",
       "      <td>-1.919126</td>\n",
       "      <td>-1.902899</td>\n",
       "      <td>-0.888764</td>\n",
       "      <td>-0.922064</td>\n",
       "      <td>-0.752666</td>\n",
       "      <td>-1.217114</td>\n",
       "    </tr>\n",
       "    <tr>\n",
       "      <th>135</th>\n",
       "      <td>0.071658</td>\n",
       "      <td>1.170796</td>\n",
       "      <td>-0.953312</td>\n",
       "      <td>-0.711810</td>\n",
       "      <td>-1.367639</td>\n",
       "      <td>-0.532598</td>\n",
       "      <td>-0.281435</td>\n",
       "      <td>-0.511624</td>\n",
       "      <td>-0.949998</td>\n",
       "    </tr>\n",
       "  </tbody>\n",
       "</table>\n",
       "</div>"
      ],
      "text/plain": [
       "          Q-E     ZN-E      PH-E      DBO-E    DQO-E       SS-E     SSV-E  \\\n",
       "270 -0.488068 -0.549232  1.585884  0.544452  0.560994 -0.515637  0.904914   \n",
       "17   0.174834 -0.678234  1.585884  0.707602  0.866857 -0.193392  0.462010   \n",
       "54   0.035561 -0.463231 -0.106914  0.152890  0.000246  0.044052 -0.589886   \n",
       "236  1.649265 -0.248227 -0.530113 -1.919126 -1.902899 -0.888764 -0.922064   \n",
       "135  0.071658  1.170796 -0.953312 -0.711810 -1.367639 -0.532598 -0.281435   \n",
       "\n",
       "        SED-E    COND-E  \n",
       "270  0.280369 -0.319094  \n",
       "17   0.693583  0.568751  \n",
       "54   0.108197 -0.403045  \n",
       "236 -0.752666 -1.217114  \n",
       "135 -0.511624 -0.949998  "
      ]
     },
     "execution_count": 158,
     "metadata": {},
     "output_type": "execute_result"
    }
   ],
   "source": [
    "from sklearn import preprocessing\n",
    "scaler = preprocessing.StandardScaler()\n",
    "scaler.fit(df1)\n",
    "XE_scaled_array = scaler.transform(df1)\n",
    "XE_scaled = pd.DataFrame(XE_scaled_array, columns = df1.columns)\n",
    "XE_scaled.sample(5)"
   ]
  },
  {
   "cell_type": "code",
   "execution_count": 159,
   "id": "e9960a6c",
   "metadata": {},
   "outputs": [
    {
     "data": {
      "text/plain": [
       "array([0, 0, 0, 0, 1, 0, 0, 0, 1, 1, 1, 1, 1, 0, 0, 1, 1, 0, 1, 1, 0, 1,\n",
       "       1, 0, 0, 1, 0, 0, 0, 0, 0, 0, 1, 1, 1, 0, 1, 1, 0, 1, 1, 2, 0, 1,\n",
       "       1, 1, 1, 2, 0, 0, 0, 0, 1, 2, 1, 2, 1, 0, 0, 0, 0, 0, 1, 2, 1, 1,\n",
       "       1, 0, 0, 0, 1, 0, 1, 0, 1, 1, 1, 0, 1, 0, 1, 0, 1, 1, 1, 1, 1, 1,\n",
       "       1, 2, 1, 1, 1, 1, 1, 1, 1, 0, 1, 1, 1, 1, 1, 1, 1, 0, 0, 0, 1, 1,\n",
       "       0, 2, 1, 1, 0, 1, 1, 1, 1, 1, 0, 0, 1, 0, 0, 0, 0, 2, 2, 1, 1, 0,\n",
       "       1, 1, 1, 1, 0, 2, 2, 1, 1, 1, 1, 1, 0, 0, 1, 0, 0, 0, 1, 1, 1, 1,\n",
       "       1, 1, 1, 1, 1, 1, 1, 1, 0, 0, 0, 0, 0, 0, 0, 0, 1, 0, 0, 0, 0, 0,\n",
       "       0, 0, 1, 1, 0, 0, 1, 1, 1, 1, 1, 0, 1, 1, 1, 0, 0, 0, 0, 1, 0, 0,\n",
       "       0, 1, 2, 2, 0, 1, 1, 1, 1, 1, 1, 1, 1, 1, 1, 1, 0, 1, 2, 2, 1, 0,\n",
       "       2, 1, 0, 0, 0, 1, 1, 0, 0, 0, 0, 0, 0, 0, 0, 0, 1, 1, 0, 1, 0, 0,\n",
       "       0, 0, 0, 0, 0, 0, 0, 0, 0, 0, 0, 0, 0, 0, 0, 0, 0, 0, 0, 0, 1, 1,\n",
       "       1, 0, 0, 1, 0, 1, 0, 0, 0, 0, 0, 0, 0, 0, 0, 1, 1, 1, 1, 0, 0, 1,\n",
       "       1, 1, 1, 0, 0, 2, 0, 1, 1, 1, 0, 1, 1, 1, 2, 0, 0, 1, 0, 0, 0, 1,\n",
       "       0, 0, 0, 0, 0, 1, 0, 0, 0, 0, 0, 0, 1, 1, 0, 1, 2, 1, 1, 0, 1, 0,\n",
       "       1, 1, 0, 0, 1, 0, 1, 0, 0, 0, 1, 1, 0, 1, 0, 0, 1, 1, 1, 0, 1, 1,\n",
       "       1, 1, 1, 1, 0, 1, 1, 1, 0, 0, 0, 1, 1, 1, 1, 1, 1, 2, 1, 1, 1, 1,\n",
       "       1, 1, 1, 1, 1, 0], dtype=int32)"
      ]
     },
     "execution_count": 159,
     "metadata": {},
     "output_type": "execute_result"
    }
   ],
   "source": [
    "# K-Means Clustering\n",
    "from sklearn.cluster import KMeans\n",
    "nclusters = 3 # this is the k in kmeans\n",
    "seed = 0\n",
    "km = KMeans(n_clusters=nclusters, random_state=seed)\n",
    "km.fit(XE_scaled)\n",
    "# predict the cluster for each data point\n",
    "yE_cluster_kmeans = km.predict(XE_scaled)\n",
    "yE_cluster_kmeans"
   ]
  },
  {
   "cell_type": "code",
   "execution_count": 160,
   "id": "f5868c66",
   "metadata": {},
   "outputs": [
    {
     "data": {
      "image/png": "[encoded data removed]",
      "text/plain": [
       "<Figure size 720x720 with 1 Axes>"
      ]
     },
     "metadata": {
      "needs_background": "light"
     },
     "output_type": "display_data"
    }
   ],
   "source": [
    "from sklearn.cluster import KMeans\n",
    "wcss1 = [] # within cluster sum of squares\n",
    "\n",
    "for k in range(1, 15):\n",
    "    kmeansForLoop = KMeans(n_clusters = k)\n",
    "    kmeansForLoop.fit(XE_scaled)\n",
    "    wcss1.append(kmeansForLoop.inertia_)\n",
    "\n",
    "plt.figure(figsize = (10, 10))\n",
    "plt.plot(range(1, 15), wcss1)\n",
    "plt.xlabel(\"K value\")\n",
    "plt.ylabel(\"WCSS\")\n",
    "plt.show()"
   ]
  },
  {
   "cell_type": "code",
   "execution_count": 161,
   "id": "32c61124",
   "metadata": {},
   "outputs": [
    {
     "data": {
      "image/png": "[encoded data removed]",
      "text/plain": [
       "<Figure size 432x288 with 1 Axes>"
      ]
     },
     "metadata": {
      "needs_background": "light"
     },
     "output_type": "display_data"
    }
   ],
   "source": [
    "from sklearn.metrics import silhouette_score\n",
    "silhouette_scores1 = [] \n",
    "\n",
    "for n_cluster in range(2,15):\n",
    "    silhouette_scores1.append( \n",
    "        silhouette_score(XE_scaled, KMeans(n_clusters = n_cluster).fit_predict(XE_scaled))) \n",
    "    \n",
    "# Plotting a bar graph to compare the results \n",
    "k = [2, 3, 4, 5, 6,7,8,9,10,11,12,13,14] \n",
    "plt.bar(k, silhouette_scores1) \n",
    "plt.xlabel('Number of clusters', fontsize = 10) \n",
    "plt.ylabel('Silhouette Score', fontsize = 10) \n",
    "plt.grid()\n",
    "plt.show() "
   ]
  },
  {
   "cell_type": "code",
   "execution_count": 162,
   "id": "949e72ca",
   "metadata": {},
   "outputs": [
    {
     "data": {
      "text/plain": [
       "array([0, 0, 0, 0, 1, 0, 0, 0, 0, 1, 1, 1, 1, 0, 0, 1, 1, 0, 1, 1, 0, 1,\n",
       "       1, 1, 0, 1, 0, 0, 0, 0, 0, 0, 1, 1, 1, 0, 1, 1, 0, 1, 1, 0, 0, 1,\n",
       "       1, 1, 1, 0, 0, 0, 0, 0, 1, 0, 1, 1, 1, 0, 0, 0, 0, 0, 1, 0, 1, 1,\n",
       "       1, 0, 0, 0, 1, 0, 1, 0, 1, 1, 1, 0, 1, 0, 1, 0, 1, 1, 1, 1, 1, 1,\n",
       "       1, 0, 1, 1, 1, 1, 1, 1, 1, 0, 1, 1, 1, 1, 1, 1, 1, 0, 0, 0, 1, 1,\n",
       "       0, 1, 1, 1, 0, 1, 1, 1, 1, 0, 0, 0, 1, 0, 0, 0, 0, 0, 0, 1, 1, 0,\n",
       "       1, 1, 1, 1, 0, 0, 0, 1, 1, 1, 1, 1, 0, 0, 1, 0, 0, 0, 1, 1, 1, 1,\n",
       "       1, 1, 1, 1, 1, 1, 1, 1, 0, 0, 0, 0, 0, 0, 0, 0, 1, 1, 0, 0, 0, 0,\n",
       "       0, 0, 1, 1, 0, 0, 1, 1, 1, 1, 1, 0, 1, 1, 1, 0, 0, 0, 0, 1, 0, 0,\n",
       "       0, 1, 1, 0, 0, 1, 1, 1, 1, 1, 0, 1, 1, 1, 1, 1, 1, 1, 1, 1, 1, 0,\n",
       "       0, 1, 0, 0, 1, 1, 1, 0, 1, 0, 0, 0, 0, 0, 0, 0, 1, 1, 0, 1, 0, 0,\n",
       "       0, 0, 0, 0, 0, 0, 0, 0, 0, 0, 0, 0, 1, 1, 0, 0, 0, 0, 0, 0, 1, 1,\n",
       "       1, 1, 1, 1, 0, 1, 0, 0, 0, 0, 0, 0, 0, 0, 0, 1, 1, 1, 1, 0, 0, 1,\n",
       "       1, 1, 1, 0, 0, 0, 0, 1, 1, 1, 0, 0, 1, 1, 0, 0, 0, 1, 0, 0, 0, 1,\n",
       "       0, 0, 0, 0, 0, 1, 0, 0, 0, 0, 0, 0, 1, 0, 0, 1, 0, 1, 1, 0, 1, 0,\n",
       "       1, 1, 0, 0, 1, 0, 1, 0, 0, 0, 1, 1, 0, 1, 0, 0, 1, 1, 1, 1, 1, 1,\n",
       "       1, 1, 1, 1, 0, 1, 1, 1, 0, 0, 0, 1, 1, 1, 1, 1, 1, 0, 1, 1, 1, 1,\n",
       "       1, 1, 1, 1, 1, 0], dtype=int32)"
      ]
     },
     "execution_count": 162,
     "metadata": {},
     "output_type": "execute_result"
    }
   ],
   "source": [
    "nclusters1 = 2 # this is the k in kmeans\n",
    "seed1 = 0\n",
    "\n",
    "km1 = KMeans(n_clusters=nclusters1, random_state=seed1)\n",
    "km1.fit(XE_scaled)\n",
    "\n",
    "# predict the cluster for each data point\n",
    "ye_cluster_kmeans = km1.predict(XE_scaled)\n",
    "ye_cluster_kmeans"
   ]
  },
  {
   "cell_type": "code",
   "execution_count": 163,
   "id": "5ce18735",
   "metadata": {},
   "outputs": [
    {
     "name": "stdout",
     "output_type": "stream",
     "text": [
      "[0 0 0 0 1 0 0 0 0 1 1 1 1 0 0 1 1 0 1 1 0 1 1 1 0 1 0 0 0 0 0 0 1 1 1 0 1\n",
      " 1 0 1 1 0 0 1 1 1 1 0 0 0 0 0 1 0 1 1 1 0 0 0 0 0 1 0 1 1 1 0 0 0 1 0 1 0\n",
      " 1 1 1 0 1 0 1 0 1 1 1 1 1 1 1 0 1 1 1 1 1 1 1 0 1 1 1 1 1 1 1 0 0 0 1 1 0\n",
      " 1 1 1 0 1 1 1 1 0 0 0 1 0 0 0 0 0 0 1 1 0 1 1 1 1 0 0 0 1 1 1 1 1 0 0 1 0\n",
      " 0 0 1 1 1 1 1 1 1 1 1 1 1 1 0 0 0 0 0 0 0 0 1 1 0 0 0 0 0 0 1 1 0 0 1 1 1\n",
      " 1 1 0 1 1 1 0 0 0 0 1 0 0 0 1 1 0 0 1 1 1 1 1 0 1 1 1 1 1 1 1 1 1 1 0 0 1\n",
      " 0 0 1 1 1 0 1 0 0 0 0 0 0 0 1 1 0 1 0 0 0 0 0 0 0 0 0 0 0 0 0 0 1 1 0 0 0\n",
      " 0 0 0 1 1 1 1 1 1 0 1 0 0 0 0 0 0 0 0 0 1 1 1 1 0 0 1 1 1 1 0 0 0 0 1 1 1\n",
      " 0 0 1 1 0 0 0 1 0 0 0 1 0 0 0 0 0 1 0 0 0 0 0 0 1 0 0 1 0 1 1 0 1 0 1 1 0\n",
      " 0 1 0 1 0 0 0 1 1 0 1 0 0 1 1 1 1 1 1 1 1 1 1 0 1 1 1 0 0 0 1 1 1 1 1 1 0\n",
      " 1 1 1 1 1 1 1 1 1 0]\n"
     ]
    }
   ],
   "source": [
    "labelE = km1.fit_predict(XE_scaled)\n",
    "print(labelE)"
   ]
  },
  {
   "cell_type": "code",
   "execution_count": 166,
   "id": "e2c08bd9",
   "metadata": {},
   "outputs": [
    {
     "data": {
      "text/plain": [
       "0.16804731975988885"
      ]
     },
     "execution_count": 166,
     "metadata": {},
     "output_type": "execute_result"
    }
   ],
   "source": [
    "from sklearn import metrics\n",
    "score1 = metrics.silhouette_score(XE_scaled, yE_cluster_kmeans)\n",
    "score1"
   ]
  },
  {
   "cell_type": "code",
   "execution_count": 164,
   "id": "c97954bf",
   "metadata": {},
   "outputs": [
    {
     "data": {
      "text/plain": [
       "<matplotlib.collections.PathCollection at 0x7ff2084042e0>"
      ]
     },
     "execution_count": 164,
     "metadata": {},
     "output_type": "execute_result"
    },
    {
     "data": {
      "image/png": "[encoded data removed]",
      "text/plain": [
       "<Figure size 432x288 with 1 Axes>"
      ]
     },
     "metadata": {
      "needs_background": "light"
     },
     "output_type": "display_data"
    }
   ],
   "source": [
    "labelE_0 = XE_scaled[labelE == 0]\n",
    "labelE_1 = XE_scaled[labelE == 1]\n",
    "\n",
    "plt.scatter(labelE_0.iloc[:,0], labelE_0.iloc[:,1], color='red')\n",
    "plt.scatter(labelE_1.iloc[:,0], labelE_1.iloc[:,1], color='blue')"
   ]
  },
  {
   "cell_type": "code",
   "execution_count": 167,
   "id": "aca9e518",
   "metadata": {},
   "outputs": [
    {
     "data": {
      "text/plain": [
       "0.16560989808457524"
      ]
     },
     "execution_count": 167,
     "metadata": {},
     "output_type": "execute_result"
    }
   ],
   "source": [
    "score1 = metrics.silhouette_score(XE_scaled, ye_cluster_kmeans)\n",
    "score1"
   ]
  },
  {
   "cell_type": "code",
   "execution_count": 168,
   "id": "7ab3376f",
   "metadata": {},
   "outputs": [
    {
     "data": {
      "text/plain": [
       "array([[173,   0,   0],\n",
       "       [  0, 187,   0],\n",
       "       [  0,   0,  20]])"
      ]
     },
     "execution_count": 168,
     "metadata": {},
     "output_type": "execute_result"
    }
   ],
   "source": [
    "contingency_matrix2 = metrics.cluster.contingency_matrix(yE_cluster_kmeans,yE_cluster_kmeans)\n",
    "contingency_matrix2"
   ]
  },
  {
   "cell_type": "code",
   "execution_count": 169,
   "id": "6fc1b86a",
   "metadata": {},
   "outputs": [
    {
     "data": {
      "text/plain": [
       "array([173, 187,  20])"
      ]
     },
     "execution_count": 169,
     "metadata": {},
     "output_type": "execute_result"
    }
   ],
   "source": [
    "np.amax(contingency_matrix2, axis=0)"
   ]
  },
  {
   "cell_type": "code",
   "execution_count": 170,
   "id": "d124e75c",
   "metadata": {},
   "outputs": [
    {
     "data": {
      "text/plain": [
       "380"
      ]
     },
     "execution_count": 170,
     "metadata": {},
     "output_type": "execute_result"
    }
   ],
   "source": [
    "xe = np.sum(np.amax(contingency_matrix2, axis=0)) #Sum of max. elements from each row\n",
    "xe"
   ]
  },
  {
   "cell_type": "code",
   "execution_count": 171,
   "id": "ad5d8d35",
   "metadata": {},
   "outputs": [
    {
     "data": {
      "text/plain": [
       "380"
      ]
     },
     "execution_count": 171,
     "metadata": {},
     "output_type": "execute_result"
    }
   ],
   "source": [
    "ye = np.sum(contingency_matrix2)  #total sum of all elements in contingency matrix\n",
    "ye"
   ]
  },
  {
   "cell_type": "code",
   "execution_count": 172,
   "id": "592b727a",
   "metadata": {},
   "outputs": [
    {
     "data": {
      "text/plain": [
       "1.0"
      ]
     },
     "execution_count": 172,
     "metadata": {},
     "output_type": "execute_result"
    }
   ],
   "source": [
    "purity = float(xe)/float(ye) \n",
    "purity"
   ]
  },
  {
   "cell_type": "code",
   "execution_count": 173,
   "id": "a3313382",
   "metadata": {},
   "outputs": [
    {
     "data": {
      "image/png": "[encoded data removed]",
      "text/plain": [
       "<Figure size 720x720 with 1 Axes>"
      ]
     },
     "metadata": {
      "needs_background": "light"
     },
     "output_type": "display_data"
    }
   ],
   "source": [
    "from sklearn.cluster import KMeans\n",
    "wcss1 = [] # within cluster sum of squares\n",
    "\n",
    "for k in range(1, 15):\n",
    "    kmeansForLoop = KMeans(n_clusters = k)\n",
    "    kmeansForLoop.fit(XE_scaled)\n",
    "    wcss1.append(kmeansForLoop.inertia_)\n",
    "\n",
    "plt.figure(figsize = (10, 10))\n",
    "plt.plot(range(1, 15), wcss1)\n",
    "plt.xlabel(\"K value\")\n",
    "plt.ylabel(\"WCSS\")\n",
    "plt.show()"
   ]
  },
  {
   "cell_type": "code",
   "execution_count": 174,
   "id": "cbee18b3",
   "metadata": {},
   "outputs": [
    {
     "data": {
      "image/png": "[encoded data removed]",
      "text/plain": [
       "<Figure size 432x288 with 1 Axes>"
      ]
     },
     "metadata": {
      "needs_background": "light"
     },
     "output_type": "display_data"
    }
   ],
   "source": [
    "from sklearn.metrics import silhouette_score\n",
    "silhouette_scores1 = [] \n",
    "\n",
    "for n_cluster in range(2,15):\n",
    "    silhouette_scores1.append( \n",
    "        silhouette_score(XE_scaled, KMeans(n_clusters = n_cluster).fit_predict(XE_scaled))) \n",
    "    \n",
    "# Plotting a bar graph to compare the results \n",
    "k = [2, 3, 4, 5, 6,7,8,9,10,11,12,13,14] \n",
    "plt.bar(k, silhouette_scores1) \n",
    "plt.xlabel('Number of clusters', fontsize = 10) \n",
    "plt.ylabel('Silhouette Score', fontsize = 10) \n",
    "plt.grid()\n",
    "plt.show() "
   ]
  },
  {
   "cell_type": "code",
   "execution_count": 175,
   "id": "e6c40212",
   "metadata": {},
   "outputs": [
    {
     "data": {
      "text/plain": [
       "array([0, 0, 0, 0, 1, 0, 0, 0, 0, 1, 1, 1, 1, 0, 0, 1, 1, 0, 1, 1, 0, 1,\n",
       "       1, 1, 0, 1, 0, 0, 0, 0, 0, 0, 1, 1, 1, 0, 1, 1, 0, 1, 1, 0, 0, 1,\n",
       "       1, 1, 1, 0, 0, 0, 0, 0, 1, 0, 1, 1, 1, 0, 0, 0, 0, 0, 1, 0, 1, 1,\n",
       "       1, 0, 0, 0, 1, 0, 1, 0, 1, 1, 1, 0, 1, 0, 1, 0, 1, 1, 1, 1, 1, 1,\n",
       "       1, 0, 1, 1, 1, 1, 1, 1, 1, 0, 1, 1, 1, 1, 1, 1, 1, 0, 0, 0, 1, 1,\n",
       "       0, 1, 1, 1, 0, 1, 1, 1, 1, 0, 0, 0, 1, 0, 0, 0, 0, 0, 0, 1, 1, 0,\n",
       "       1, 1, 1, 1, 0, 0, 0, 1, 1, 1, 1, 1, 0, 0, 1, 0, 0, 0, 1, 1, 1, 1,\n",
       "       1, 1, 1, 1, 1, 1, 1, 1, 0, 0, 0, 0, 0, 0, 0, 0, 1, 1, 0, 0, 0, 0,\n",
       "       0, 0, 1, 1, 0, 0, 1, 1, 1, 1, 1, 0, 1, 1, 1, 0, 0, 0, 0, 1, 0, 0,\n",
       "       0, 1, 1, 0, 0, 1, 1, 1, 1, 1, 0, 1, 1, 1, 1, 1, 1, 1, 1, 1, 1, 0,\n",
       "       0, 1, 0, 0, 1, 1, 1, 0, 1, 0, 0, 0, 0, 0, 0, 0, 1, 1, 0, 1, 0, 0,\n",
       "       0, 0, 0, 0, 0, 0, 0, 0, 0, 0, 0, 0, 1, 1, 0, 0, 0, 0, 0, 0, 1, 1,\n",
       "       1, 1, 1, 1, 0, 1, 0, 0, 0, 0, 0, 0, 0, 0, 0, 1, 1, 1, 1, 0, 0, 1,\n",
       "       1, 1, 1, 0, 0, 0, 0, 1, 1, 1, 0, 0, 1, 1, 0, 0, 0, 1, 0, 0, 0, 1,\n",
       "       0, 0, 0, 0, 0, 1, 0, 0, 0, 0, 0, 0, 1, 0, 0, 1, 0, 1, 1, 0, 1, 0,\n",
       "       1, 1, 0, 0, 1, 0, 1, 0, 0, 0, 1, 1, 0, 1, 0, 0, 1, 1, 1, 1, 1, 1,\n",
       "       1, 1, 1, 1, 0, 1, 1, 1, 0, 0, 0, 1, 1, 1, 1, 1, 1, 0, 1, 1, 1, 1,\n",
       "       1, 1, 1, 1, 1, 0], dtype=int32)"
      ]
     },
     "execution_count": 175,
     "metadata": {},
     "output_type": "execute_result"
    }
   ],
   "source": [
    "nclusters1 = 2 # this is the k in kmeans\n",
    "seed1 = 0\n",
    "\n",
    "km1 = KMeans(n_clusters=nclusters1, random_state=seed1)\n",
    "km1.fit(XE_scaled)\n",
    "\n",
    "# predict the cluster for each data point\n",
    "ye_cluster_kmeans = km1.predict(XE_scaled)\n",
    "ye_cluster_kmeans"
   ]
  },
  {
   "cell_type": "code",
   "execution_count": 176,
   "id": "d06167ea",
   "metadata": {},
   "outputs": [
    {
     "name": "stdout",
     "output_type": "stream",
     "text": [
      "[0 0 0 0 1 0 0 0 0 1 1 1 1 0 0 1 1 0 1 1 0 1 1 1 0 1 0 0 0 0 0 0 1 1 1 0 1\n",
      " 1 0 1 1 0 0 1 1 1 1 0 0 0 0 0 1 0 1 1 1 0 0 0 0 0 1 0 1 1 1 0 0 0 1 0 1 0\n",
      " 1 1 1 0 1 0 1 0 1 1 1 1 1 1 1 0 1 1 1 1 1 1 1 0 1 1 1 1 1 1 1 0 0 0 1 1 0\n",
      " 1 1 1 0 1 1 1 1 0 0 0 1 0 0 0 0 0 0 1 1 0 1 1 1 1 0 0 0 1 1 1 1 1 0 0 1 0\n",
      " 0 0 1 1 1 1 1 1 1 1 1 1 1 1 0 0 0 0 0 0 0 0 1 1 0 0 0 0 0 0 1 1 0 0 1 1 1\n",
      " 1 1 0 1 1 1 0 0 0 0 1 0 0 0 1 1 0 0 1 1 1 1 1 0 1 1 1 1 1 1 1 1 1 1 0 0 1\n",
      " 0 0 1 1 1 0 1 0 0 0 0 0 0 0 1 1 0 1 0 0 0 0 0 0 0 0 0 0 0 0 0 0 1 1 0 0 0\n",
      " 0 0 0 1 1 1 1 1 1 0 1 0 0 0 0 0 0 0 0 0 1 1 1 1 0 0 1 1 1 1 0 0 0 0 1 1 1\n",
      " 0 0 1 1 0 0 0 1 0 0 0 1 0 0 0 0 0 1 0 0 0 0 0 0 1 0 0 1 0 1 1 0 1 0 1 1 0\n",
      " 0 1 0 1 0 0 0 1 1 0 1 0 0 1 1 1 1 1 1 1 1 1 1 0 1 1 1 0 0 0 1 1 1 1 1 1 0\n",
      " 1 1 1 1 1 1 1 1 1 0]\n"
     ]
    }
   ],
   "source": [
    "labelE = km1.fit_predict(XE_scaled)\n",
    "print(labelE)"
   ]
  },
  {
   "cell_type": "code",
   "execution_count": 177,
   "id": "b267fbf8",
   "metadata": {},
   "outputs": [
    {
     "data": {
      "text/plain": [
       "<matplotlib.collections.PathCollection at 0x7ff1f0566f10>"
      ]
     },
     "execution_count": 177,
     "metadata": {},
     "output_type": "execute_result"
    },
    {
     "data": {
      "image/png": "[encoded data removed]",
      "text/plain": [
       "<Figure size 432x288 with 1 Axes>"
      ]
     },
     "metadata": {
      "needs_background": "light"
     },
     "output_type": "display_data"
    }
   ],
   "source": [
    "labelE_0 = XE_scaled[labelE == 0]\n",
    "labelE_1 = XE_scaled[labelE == 1]\n",
    "\n",
    "plt.scatter(labelE_0.iloc[:,0], labelE_0.iloc[:,1], color='green')\n",
    "plt.scatter(labelE_1.iloc[:,0], labelE_1.iloc[:,1], color='yellow')"
   ]
  },
  {
   "cell_type": "code",
   "execution_count": 178,
   "id": "914791f1",
   "metadata": {},
   "outputs": [
    {
     "data": {
      "text/plain": [
       "0.16560989808457524"
      ]
     },
     "execution_count": 178,
     "metadata": {},
     "output_type": "execute_result"
    }
   ],
   "source": [
    "score1 = metrics.silhouette_score(XE_scaled, ye_cluster_kmeans)\n",
    "score1"
   ]
  },
  {
   "cell_type": "code",
   "execution_count": 179,
   "id": "4be0b2e5",
   "metadata": {},
   "outputs": [
    {
     "data": {
      "text/plain": [
       "2848.429045839205"
      ]
     },
     "execution_count": 179,
     "metadata": {},
     "output_type": "execute_result"
    }
   ],
   "source": [
    "km1.inertia_"
   ]
  },
  {
   "cell_type": "code",
   "execution_count": 188,
   "id": "320a1409",
   "metadata": {},
   "outputs": [
    {
     "data": {
      "text/plain": [
       "array([[-0.37778602,  0.17315618,  0.22840835,  0.62183677,  0.72000726,\n",
       "         0.29002265,  0.22007266,  0.44971937,  0.39299453],\n",
       "       [ 0.35093828, -0.16085066, -0.21217629, -0.57764532, -0.66883923,\n",
       "        -0.26941191, -0.20443297, -0.41775961, -0.36506598]])"
      ]
     },
     "execution_count": 188,
     "metadata": {},
     "output_type": "execute_result"
    }
   ],
   "source": [
    "km1.cluster_centers_"
   ]
  }
 ],
 "metadata": {
  "kernelspec": {
   "display_name": "Python 3 (ipykernel)",
   "language": "python",
   "name": "python3"
  },
  "language_info": {
   "codemirror_mode": {
    "name": "ipython",
    "version": 3
   },
   "file_extension": ".py",
   "mimetype": "text/x-python",
   "name": "python",
   "nbconvert_exporter": "python",
   "pygments_lexer": "ipython3",
   "version": "3.9.7"
  }
 },
 "nbformat": 4,
 "nbformat_minor": 5
}
